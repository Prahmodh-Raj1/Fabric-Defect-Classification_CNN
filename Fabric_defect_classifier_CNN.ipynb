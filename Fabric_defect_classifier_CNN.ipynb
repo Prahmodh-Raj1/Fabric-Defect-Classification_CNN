{
  "nbformat": 4,
  "nbformat_minor": 0,
  "metadata": {
    "colab": {
      "provenance": [],
      "authorship_tag": "ABX9TyM3kC7qpQkiYg3n17EqSk4u"
    },
    "kernelspec": {
      "name": "python3",
      "display_name": "Python 3"
    },
    "language_info": {
      "name": "python"
    }
  },
  "cells": [
    {
      "cell_type": "code",
      "execution_count": 12,
      "metadata": {
        "id": "dYX8YhzTcoTF"
      },
      "outputs": [],
      "source": [
        "import numpy as np\n",
        "import cv2\n",
        "import pandas as pd\n",
        "import matplotlib.pyplot as plt\n",
        "import PIL.Image as Image\n",
        "import tensorflow as tf\n",
        "import os\n",
        "import seaborn as sb\n",
        "from sklearn.model_selection import train_test_split\n",
        "from sklearn.metrics import confusion_matrix,classification_report\n",
        "from tensorflow.keras.models import Sequential\n",
        "from tensorflow.keras.layers import Conv2D,MaxPooling2D,Flatten,Dense,Dropout\n",
        "from tensorflow.keras.utils import to_categorical"
      ]
    },
    {
      "cell_type": "markdown",
      "source": [
        "### Loading the Dataset"
      ],
      "metadata": {
        "id": "ElkO1Y31uQ_R"
      }
    },
    {
      "cell_type": "code",
      "source": [
        "dataset_path = '/content/Dataset'\n",
        "sub_folders = os.listdir(dataset_path)\n",
        "IMAGE_SHAPE = (224,224)\n",
        "i=0\n",
        "images=[]\n",
        "labels=[]\n",
        "path_lists=[]\n",
        "temp=sub_folders\n",
        "\n",
        "for sub_folder in sub_folders:\n",
        "  sub_folder_index = temp.index(sub_folder)\n",
        "  label = sub_folder_index\n",
        "  if label==4:\n",
        "    label=3\n",
        "  path = dataset_path+'/'+sub_folder\n",
        "  sub_folder_images = os.listdir(path)\n",
        "\n",
        "  #Reading images from the subfolder one at a time\n",
        "  for image in sub_folder_images:\n",
        "    image_path = path+'/'+image\n",
        "    image = cv2.imread(image_path)\n",
        "    resized_image = cv2.resize(image,IMAGE_SHAPE)\n",
        "    path_lists.append(image_path)\n",
        "    images.append(resized_image)\n",
        "    labels.append(label-1)\n",
        "    i+=1\n"
      ],
      "metadata": {
        "id": "FaVuaXj6hNFM"
      },
      "execution_count": 26,
      "outputs": []
    },
    {
      "cell_type": "code",
      "source": [
        "Image.open(str(path_lists[0])).resize(IMAGE_SHAPE)"
      ],
      "metadata": {
        "colab": {
          "base_uri": "https://localhost:8080/",
          "height": 241
        },
        "id": "1FSi8THXnwXf",
        "outputId": "cb4ab998-2e5a-4913-8ebd-d222192d5e68"
      },
      "execution_count": 25,
      "outputs": [
        {
          "output_type": "execute_result",
          "data": {
            "text/plain": [
              "<PIL.Image.Image image mode=L size=224x224>"
            ],
            "image/png": "[encoded data removed]"
          },
          "metadata": {},
          "execution_count": 25
        }
      ]
    },
    {
      "cell_type": "markdown",
      "source": [
        "### Data Preprocessing"
      ],
      "metadata": {
        "id": "a9vKxwx6uWz5"
      }
    },
    {
      "cell_type": "code",
      "source": [
        "images = np.array(images)\n",
        "labels = np.array(labels)\n",
        "defect_classes = ['Holes','Horizontal','Vertical']\n",
        "num_of_classes = 3\n",
        "classes_encoded = to_categorical(labels,num_classes = num_of_classes)"
      ],
      "metadata": {
        "id": "Sk8DH-WXoF6U"
      },
      "execution_count": 27,
      "outputs": []
    },
    {
      "cell_type": "code",
      "source": [
        "images = images/255.0"
      ],
      "metadata": {
        "id": "wuSyUJkpqEty"
      },
      "execution_count": 28,
      "outputs": []
    },
    {
      "cell_type": "code",
      "source": [
        "X_train,X_test,y_train,y_test = train_test_split(images,classes_encoded,test_size=0.2,random_state=10)"
      ],
      "metadata": {
        "id": "DEtQQT3RrTMN"
      },
      "execution_count": 29,
      "outputs": []
    },
    {
      "cell_type": "code",
      "source": [
        "X_train.shape"
      ],
      "metadata": {
        "colab": {
          "base_uri": "https://localhost:8080/"
        },
        "id": "xlCAKbDOrJE0",
        "outputId": "b2d81273-de38-4ac8-c8ef-4e1e7b447be0"
      },
      "execution_count": 30,
      "outputs": [
        {
          "output_type": "execute_result",
          "data": {
            "text/plain": [
              "(329, 224, 224, 3)"
            ]
          },
          "metadata": {},
          "execution_count": 30
        }
      ]
    },
    {
      "cell_type": "code",
      "source": [
        "X_test.shape"
      ],
      "metadata": {
        "colab": {
          "base_uri": "https://localhost:8080/"
        },
        "id": "X5GaM6HJriYs",
        "outputId": "190b40ad-3edc-4979-e9b8-5fdb7a9d6025"
      },
      "execution_count": 31,
      "outputs": [
        {
          "output_type": "execute_result",
          "data": {
            "text/plain": [
              "(83, 224, 224, 3)"
            ]
          },
          "metadata": {},
          "execution_count": 31
        }
      ]
    },
    {
      "cell_type": "code",
      "source": [
        "print(defect_classes[np.argmax(y_test[24])])"
      ],
      "metadata": {
        "colab": {
          "base_uri": "https://localhost:8080/"
        },
        "id": "wvYXvoINtGJW",
        "outputId": "e8001daa-47cc-4102-8fcc-78eeb2378947"
      },
      "execution_count": 35,
      "outputs": [
        {
          "output_type": "stream",
          "name": "stdout",
          "text": [
            "Vertical\n"
          ]
        }
      ]
    },
    {
      "cell_type": "code",
      "source": [],
      "metadata": {
        "id": "mM3ZHXWQt76Y"
      },
      "execution_count": null,
      "outputs": []
    }
  ]
}